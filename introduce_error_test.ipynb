{
 "cells": [
  {
   "cell_type": "code",
   "execution_count": 185,
   "metadata": {},
   "outputs": [
    {
     "data": {
      "text/plain": [
       "(12150,\n",
       " array([['G', 'A', 'T', ..., 'C', 'A', 'C'],\n",
       "        ['T', 'C', 'C', ..., 'T', 'T', 'C'],\n",
       "        ['T', 'T', 'C', ..., 'A', 'A', 'C'],\n",
       "        ...,\n",
       "        ['T', 'A', 'T', ..., 'T', 'C', 'C'],\n",
       "        ['C', 'G', 'C', ..., 'A', 'C', 'T'],\n",
       "        ['C', 'T', 'T', ..., 'G', 'C', 'C']], dtype=object))"
      ]
     },
     "execution_count": 185,
     "metadata": {},
     "output_type": "execute_result"
    }
   ],
   "source": [
    "import numpy as np\n",
    "from itertools import product\n",
    "import copy\n",
    "\n",
    "bases = ['A', 'C', 'G', 'T']\n",
    "seq_len, replica_num = 243, 50\n",
    "origin_seqs = np.random.choice(bases, size=(seq_len, replica_num)).astype(object)\n",
    "\n",
    "position_list = list(product(range(seq_len), range(replica_num)))\n",
    "origin_seqs.size, origin_seqs"
   ]
  },
  {
   "cell_type": "code",
   "execution_count": 186,
   "metadata": {},
   "outputs": [
    {
     "data": {
      "text/plain": [
       "(243, 50)"
      ]
     },
     "execution_count": 186,
     "metadata": {},
     "output_type": "execute_result"
    }
   ],
   "source": [
    "snv_rate, del_rate, ins_rate = 0.1, 0.1, 0.1\n",
    "snv_num = int(origin_seqs.size * snv_rate)\n",
    "del_num = int(origin_seqs.size * del_rate)\n",
    "ins_num = int(origin_seqs.size * ins_rate)\n",
    "\n",
    "# create an error array to store the error type\n",
    "error_array = np.zeros_like(origin_seqs, dtype=object)\n",
    "\n",
    "# randomly select the positions and store the error type in the error array\n",
    "# snv error\n",
    "indices_with_errors = np.argwhere(error_array == 0)\n",
    "snv_indices = indices_with_errors[np.random.choice(len(indices_with_errors), snv_num, replace=False)]\n",
    "snv_indices = [tuple(item) for item in snv_indices]\n",
    "for snv_index in snv_indices:\n",
    "    error_array[snv_index] = 'snv'\n",
    "\n",
    "# del error\n",
    "indices_with_errors = np.argwhere(error_array == 0)\n",
    "del_indices = indices_with_errors[np.random.choice(len(indices_with_errors), del_num, replace=False)]\n",
    "del_indices = [tuple(item) for item in del_indices]\n",
    "for del_index in del_indices:\n",
    "    error_array[del_index] = 'del'\n",
    "\n",
    "# ins error\n",
    "indices_with_errors = np.argwhere(error_array == 0)\n",
    "ins_indices = indices_with_errors[np.random.choice(len(indices_with_errors), ins_num, replace=False)]\n",
    "ins_indices = [tuple(item) for item in ins_indices]\n",
    "for ins_index in ins_indices:\n",
    "    error_array[ins_index] = 'ins'\n",
    "\n",
    "error_array.shape"
   ]
  },
  {
   "cell_type": "code",
   "execution_count": 187,
   "metadata": {},
   "outputs": [],
   "source": [
    "cols, rows = error_array.shape\n",
    "# print(cols, rows)\n",
    "# print([_ for _ in range(rows)])\n",
    "errors_seqs = copy.deepcopy(origin_seqs)\n",
    "\n",
    "for row, col in list(product(range(cols), range(rows))):\n",
    "    if error_array[row, col] == 'snv':\n",
    "        current_base = origin_seqs[row, col]\n",
    "        chosen_bases = [base for base in bases if base != current_base]\n",
    "        errors_seqs[row, col] = np.random.choice(chosen_bases)\n",
    "    elif error_array[row, col] == 'del':\n",
    "        errors_seqs[row, col] = ''\n",
    "    elif error_array[row, col] == 'ins':\n",
    "        errors_seqs[row, col] = np.random.choice(bases) + origin_seqs[row, col]\n",
    "\n",
    "seqs_strings = [''.join(seq) for seq in errors_seqs.T]"
   ]
  },
  {
   "cell_type": "code",
   "execution_count": 216,
   "metadata": {},
   "outputs": [
    {
     "data": {
      "text/plain": [
       "(2, 1, 2)"
      ]
     },
     "execution_count": 216,
     "metadata": {},
     "output_type": "execute_result"
    }
   ],
   "source": [
    "a = [[[1,1]],[[2,2]]]\n",
    "len(a), len(a[0]), len(a[0][0])"
   ]
  },
  {
   "cell_type": "code",
   "execution_count": 217,
   "metadata": {},
   "outputs": [
    {
     "data": {
      "text/plain": [
       "[[1, 1], [2, 2]]"
      ]
     },
     "execution_count": 217,
     "metadata": {},
     "output_type": "execute_result"
    }
   ],
   "source": [
    "b = [item[0] for item in a]\n",
    "b"
   ]
  }
 ],
 "metadata": {
  "kernelspec": {
   "display_name": "comhedges",
   "language": "python",
   "name": "comhedges"
  },
  "language_info": {
   "codemirror_mode": {
    "name": "ipython",
    "version": 3
   },
   "file_extension": ".py",
   "mimetype": "text/x-python",
   "name": "python",
   "nbconvert_exporter": "python",
   "pygments_lexer": "ipython3",
   "version": "3.10.8"
  }
 },
 "nbformat": 4,
 "nbformat_minor": 2
}
